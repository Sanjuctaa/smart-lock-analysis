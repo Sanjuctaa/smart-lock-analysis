{
 "cells": [
  {
   "cell_type": "raw",
   "id": "8209a89c",
   "metadata": {},
   "source": [
    "Circuit house is evaluating a potential entry in the Smart lock market. Since this is a fairly new \n",
    "category there are very few estimates present in terms of market size and key players. One way \n",
    "to estimate the key players is by looking at major brands on online portals.\n",
    "\n"
   ]
  },
  {
   "cell_type": "markdown",
   "id": "3c5bf3af",
   "metadata": {},
   "source": [
    "## Importing the required libraries"
   ]
  },
  {
   "cell_type": "code",
   "execution_count": 1,
   "id": "0feea94b",
   "metadata": {},
   "outputs": [],
   "source": [
    "import pandas as pd\n",
    "import numpy as np\n",
    "import seaborn as sns\n",
    "import matplotlib.pyplot as plt"
   ]
  },
  {
   "cell_type": "code",
   "execution_count": 2,
   "id": "a532e9da",
   "metadata": {},
   "outputs": [
    {
     "data": {
      "text/html": [
       "<div>\n",
       "<style scoped>\n",
       "    .dataframe tbody tr th:only-of-type {\n",
       "        vertical-align: middle;\n",
       "    }\n",
       "\n",
       "    .dataframe tbody tr th {\n",
       "        vertical-align: top;\n",
       "    }\n",
       "\n",
       "    .dataframe thead th {\n",
       "        text-align: right;\n",
       "    }\n",
       "</style>\n",
       "<table border=\"1\" class=\"dataframe\">\n",
       "  <thead>\n",
       "    <tr style=\"text-align: right;\">\n",
       "      <th></th>\n",
       "      <th>Unnamed: 0</th>\n",
       "      <th>Product Name</th>\n",
       "      <th>Price</th>\n",
       "      <th>Rating</th>\n",
       "      <th>Rating_count</th>\n",
       "      <th>Review_count</th>\n",
       "    </tr>\n",
       "  </thead>\n",
       "  <tbody>\n",
       "    <tr>\n",
       "      <th>0</th>\n",
       "      <td>0</td>\n",
       "      <td>Atomberg SL 1 Smart Door Lock | 6 Ways Unlocki...</td>\n",
       "      <td>16,189</td>\n",
       "      <td>4.3</td>\n",
       "      <td>112 ratings</td>\n",
       "      <td>112 total ratings, 53 with reviews</td>\n",
       "    </tr>\n",
       "    <tr>\n",
       "      <th>1</th>\n",
       "      <td>1</td>\n",
       "      <td>Atomberg Azhero Smart Door Lock | 6 Ways Unloc...</td>\n",
       "      <td>10,899</td>\n",
       "      <td>5.0</td>\n",
       "      <td>2 ratings</td>\n",
       "      <td>2 total ratings, 2 with reviews</td>\n",
       "    </tr>\n",
       "    <tr>\n",
       "      <th>2</th>\n",
       "      <td>2</td>\n",
       "      <td>QUBO Smart Door Lock Essential from Hero Group...</td>\n",
       "      <td>9,464</td>\n",
       "      <td>4.2</td>\n",
       "      <td>339 ratings</td>\n",
       "      <td>339 total ratings, 268 with reviews</td>\n",
       "    </tr>\n",
       "    <tr>\n",
       "      <th>3</th>\n",
       "      <td>3</td>\n",
       "      <td>QUBO Smart Door Lock Essential from Hero Group...</td>\n",
       "      <td>8,937</td>\n",
       "      <td>4.4</td>\n",
       "      <td>727 ratings</td>\n",
       "      <td>727 total ratings, 594 with reviews</td>\n",
       "    </tr>\n",
       "    <tr>\n",
       "      <th>4</th>\n",
       "      <td>4</td>\n",
       "      <td>LAVNA Smart Fingerprint Padlock with 2 way acc...</td>\n",
       "      <td>1,899</td>\n",
       "      <td>4.2</td>\n",
       "      <td>8 ratings</td>\n",
       "      <td>8 total ratings, 6 with reviews</td>\n",
       "    </tr>\n",
       "  </tbody>\n",
       "</table>\n",
       "</div>"
      ],
      "text/plain": [
       "   Unnamed: 0                                       Product Name   Price  \\\n",
       "0           0  Atomberg SL 1 Smart Door Lock | 6 Ways Unlocki...  16,189   \n",
       "1           1  Atomberg Azhero Smart Door Lock | 6 Ways Unloc...  10,899   \n",
       "2           2  QUBO Smart Door Lock Essential from Hero Group...   9,464   \n",
       "3           3  QUBO Smart Door Lock Essential from Hero Group...   8,937   \n",
       "4           4  LAVNA Smart Fingerprint Padlock with 2 way acc...   1,899   \n",
       "\n",
       "   Rating Rating_count                         Review_count  \n",
       "0     4.3  112 ratings   112 total ratings, 53 with reviews  \n",
       "1     5.0    2 ratings      2 total ratings, 2 with reviews  \n",
       "2     4.2  339 ratings  339 total ratings, 268 with reviews  \n",
       "3     4.4  727 ratings  727 total ratings, 594 with reviews  \n",
       "4     4.2    8 ratings      8 total ratings, 6 with reviews  "
      ]
     },
     "execution_count": 2,
     "metadata": {},
     "output_type": "execute_result"
    }
   ],
   "source": [
    "df= pd.read_csv(r'C:\\Users\\sanju\\OneDrive\\Desktop\\marketing dataset\\smart_lock_dataset1.csv')\n",
    "df.head()"
   ]
  },
  {
   "cell_type": "markdown",
   "id": "57a1667f",
   "metadata": {},
   "source": [
    "## data cleaning"
   ]
  },
  {
   "cell_type": "code",
   "execution_count": 3,
   "id": "cb344197",
   "metadata": {},
   "outputs": [
    {
     "data": {
      "text/plain": [
       "(360, 6)"
      ]
     },
     "execution_count": 3,
     "metadata": {},
     "output_type": "execute_result"
    }
   ],
   "source": [
    "df.shape"
   ]
  },
  {
   "cell_type": "code",
   "execution_count": 4,
   "id": "01785325",
   "metadata": {},
   "outputs": [],
   "source": [
    "df['Ranking']= range(1, len(df) + 1)"
   ]
  },
  {
   "cell_type": "code",
   "execution_count": 5,
   "id": "da88215d",
   "metadata": {},
   "outputs": [],
   "source": [
    "df['Ratings_count']= df['Rating_count'].apply(lambda x: x.split(' ')[0] if isinstance(x, str) else '0')\n"
   ]
  },
  {
   "cell_type": "code",
   "execution_count": 6,
   "id": "aedc69b5",
   "metadata": {},
   "outputs": [],
   "source": [
    "df['Reviews_count']= df['Review_count'].apply(lambda x: x.split(',')[1].split(' ')[1] if isinstance(x, str) else '0')"
   ]
  },
  {
   "cell_type": "code",
   "execution_count": 7,
   "id": "0d0d814d",
   "metadata": {},
   "outputs": [],
   "source": [
    "df['Brand']= df['Product Name'].apply(lambda x: x.split(' ')[0] if isinstance(x, str) else np.nan)\n"
   ]
  },
  {
   "cell_type": "code",
   "execution_count": 8,
   "id": "373f7b3f",
   "metadata": {},
   "outputs": [
    {
     "data": {
      "text/html": [
       "<div>\n",
       "<style scoped>\n",
       "    .dataframe tbody tr th:only-of-type {\n",
       "        vertical-align: middle;\n",
       "    }\n",
       "\n",
       "    .dataframe tbody tr th {\n",
       "        vertical-align: top;\n",
       "    }\n",
       "\n",
       "    .dataframe thead th {\n",
       "        text-align: right;\n",
       "    }\n",
       "</style>\n",
       "<table border=\"1\" class=\"dataframe\">\n",
       "  <thead>\n",
       "    <tr style=\"text-align: right;\">\n",
       "      <th></th>\n",
       "      <th>Unnamed: 0</th>\n",
       "      <th>Product Name</th>\n",
       "      <th>Price</th>\n",
       "      <th>Rating</th>\n",
       "      <th>Rating_count</th>\n",
       "      <th>Review_count</th>\n",
       "      <th>Ranking</th>\n",
       "      <th>Ratings_count</th>\n",
       "      <th>Reviews_count</th>\n",
       "      <th>Brand</th>\n",
       "      <th>SK_name</th>\n",
       "    </tr>\n",
       "  </thead>\n",
       "  <tbody>\n",
       "    <tr>\n",
       "      <th>0</th>\n",
       "      <td>0</td>\n",
       "      <td>Atomberg SL 1 Smart Door Lock | 6 Ways Unlocki...</td>\n",
       "      <td>16,189</td>\n",
       "      <td>4.3</td>\n",
       "      <td>112 ratings</td>\n",
       "      <td>112 total ratings, 53 with reviews</td>\n",
       "      <td>1</td>\n",
       "      <td>112</td>\n",
       "      <td>53</td>\n",
       "      <td>Atomberg</td>\n",
       "      <td>SL 1 Smart Door Lock | 6 Ways Unlocking | Fin...</td>\n",
       "    </tr>\n",
       "    <tr>\n",
       "      <th>1</th>\n",
       "      <td>1</td>\n",
       "      <td>Atomberg Azhero Smart Door Lock | 6 Ways Unloc...</td>\n",
       "      <td>10,899</td>\n",
       "      <td>5.0</td>\n",
       "      <td>2 ratings</td>\n",
       "      <td>2 total ratings, 2 with reviews</td>\n",
       "      <td>2</td>\n",
       "      <td>2</td>\n",
       "      <td>2</td>\n",
       "      <td>Atomberg</td>\n",
       "      <td>Azhero Smart Door Lock | 6 Ways Unlocking | F...</td>\n",
       "    </tr>\n",
       "    <tr>\n",
       "      <th>2</th>\n",
       "      <td>2</td>\n",
       "      <td>QUBO Smart Door Lock Essential from Hero Group...</td>\n",
       "      <td>9,464</td>\n",
       "      <td>4.2</td>\n",
       "      <td>339 ratings</td>\n",
       "      <td>339 total ratings, 268 with reviews</td>\n",
       "      <td>3</td>\n",
       "      <td>339</td>\n",
       "      <td>268</td>\n",
       "      <td>QUBO</td>\n",
       "      <td>Smart Door Lock Essential from Hero Group | 6...</td>\n",
       "    </tr>\n",
       "    <tr>\n",
       "      <th>3</th>\n",
       "      <td>3</td>\n",
       "      <td>QUBO Smart Door Lock Essential from Hero Group...</td>\n",
       "      <td>8,937</td>\n",
       "      <td>4.4</td>\n",
       "      <td>727 ratings</td>\n",
       "      <td>727 total ratings, 594 with reviews</td>\n",
       "      <td>4</td>\n",
       "      <td>727</td>\n",
       "      <td>594</td>\n",
       "      <td>QUBO</td>\n",
       "      <td>Smart Door Lock Essential from Hero Group | 6...</td>\n",
       "    </tr>\n",
       "    <tr>\n",
       "      <th>4</th>\n",
       "      <td>4</td>\n",
       "      <td>LAVNA Smart Fingerprint Padlock with 2 way acc...</td>\n",
       "      <td>1,899</td>\n",
       "      <td>4.2</td>\n",
       "      <td>8 ratings</td>\n",
       "      <td>8 total ratings, 6 with reviews</td>\n",
       "      <td>5</td>\n",
       "      <td>8</td>\n",
       "      <td>6</td>\n",
       "      <td>LAVNA</td>\n",
       "      <td>Smart Fingerprint Padlock with 2 way access F...</td>\n",
       "    </tr>\n",
       "    <tr>\n",
       "      <th>...</th>\n",
       "      <td>...</td>\n",
       "      <td>...</td>\n",
       "      <td>...</td>\n",
       "      <td>...</td>\n",
       "      <td>...</td>\n",
       "      <td>...</td>\n",
       "      <td>...</td>\n",
       "      <td>...</td>\n",
       "      <td>...</td>\n",
       "      <td>...</td>\n",
       "      <td>...</td>\n",
       "    </tr>\n",
       "    <tr>\n",
       "      <th>355</th>\n",
       "      <td>355</td>\n",
       "      <td>Yale YSS/250/EB1 20.5L Smart Safe Locker | Blu...</td>\n",
       "      <td>25,499</td>\n",
       "      <td>2.9</td>\n",
       "      <td>8 ratings</td>\n",
       "      <td>8 total ratings, 6 with reviews</td>\n",
       "      <td>356</td>\n",
       "      <td>8</td>\n",
       "      <td>6</td>\n",
       "      <td>Yale</td>\n",
       "      <td>YSS/250/EB1 20.5L Smart Safe Locker | Bluetoo...</td>\n",
       "    </tr>\n",
       "    <tr>\n",
       "      <th>356</th>\n",
       "      <td>356</td>\n",
       "      <td>Golens X59 Smart Door Lock with | Fingerprint ...</td>\n",
       "      <td>12,499</td>\n",
       "      <td>4.2</td>\n",
       "      <td>71 ratings</td>\n",
       "      <td>71 total ratings, 60 with reviews</td>\n",
       "      <td>357</td>\n",
       "      <td>71</td>\n",
       "      <td>60</td>\n",
       "      <td>Golens</td>\n",
       "      <td>X59 Smart Door Lock with | Fingerprint | Mobi...</td>\n",
       "    </tr>\n",
       "    <tr>\n",
       "      <th>357</th>\n",
       "      <td>357</td>\n",
       "      <td>Godrej Smart Lock I Catus Connect I Digital Lo...</td>\n",
       "      <td>15,285</td>\n",
       "      <td>4.4</td>\n",
       "      <td>441 ratings</td>\n",
       "      <td>441 total ratings, 291 with reviews</td>\n",
       "      <td>358</td>\n",
       "      <td>441</td>\n",
       "      <td>291</td>\n",
       "      <td>Godrej</td>\n",
       "      <td>Smart Lock I Catus Connect I Digital Lock for...</td>\n",
       "    </tr>\n",
       "    <tr>\n",
       "      <th>358</th>\n",
       "      <td>358</td>\n",
       "      <td>Yale YDM 7116 Smart Door Lock with Mortsie Loc...</td>\n",
       "      <td>48,999</td>\n",
       "      <td>4.3</td>\n",
       "      <td>361 ratings</td>\n",
       "      <td>361 total ratings, 52 with reviews</td>\n",
       "      <td>359</td>\n",
       "      <td>361</td>\n",
       "      <td>52</td>\n",
       "      <td>Yale</td>\n",
       "      <td>YDM 7116 Smart Door Lock with Mortsie Lock | ...</td>\n",
       "    </tr>\n",
       "    <tr>\n",
       "      <th>359</th>\n",
       "      <td>359</td>\n",
       "      <td>Godrej Smart Lock I Catus Touch Plus I Digital...</td>\n",
       "      <td>11,945</td>\n",
       "      <td>4.5</td>\n",
       "      <td>198 ratings</td>\n",
       "      <td>198 total ratings, 127 with reviews</td>\n",
       "      <td>360</td>\n",
       "      <td>198</td>\n",
       "      <td>127</td>\n",
       "      <td>Godrej</td>\n",
       "      <td>Smart Lock I Catus Touch Plus I Digital Lock ...</td>\n",
       "    </tr>\n",
       "  </tbody>\n",
       "</table>\n",
       "<p>360 rows × 11 columns</p>\n",
       "</div>"
      ],
      "text/plain": [
       "     Unnamed: 0                                       Product Name   Price  \\\n",
       "0             0  Atomberg SL 1 Smart Door Lock | 6 Ways Unlocki...  16,189   \n",
       "1             1  Atomberg Azhero Smart Door Lock | 6 Ways Unloc...  10,899   \n",
       "2             2  QUBO Smart Door Lock Essential from Hero Group...   9,464   \n",
       "3             3  QUBO Smart Door Lock Essential from Hero Group...   8,937   \n",
       "4             4  LAVNA Smart Fingerprint Padlock with 2 way acc...   1,899   \n",
       "..          ...                                                ...     ...   \n",
       "355         355  Yale YSS/250/EB1 20.5L Smart Safe Locker | Blu...  25,499   \n",
       "356         356  Golens X59 Smart Door Lock with | Fingerprint ...  12,499   \n",
       "357         357  Godrej Smart Lock I Catus Connect I Digital Lo...  15,285   \n",
       "358         358  Yale YDM 7116 Smart Door Lock with Mortsie Loc...  48,999   \n",
       "359         359  Godrej Smart Lock I Catus Touch Plus I Digital...  11,945   \n",
       "\n",
       "     Rating Rating_count                         Review_count  Ranking  \\\n",
       "0       4.3  112 ratings   112 total ratings, 53 with reviews        1   \n",
       "1       5.0    2 ratings      2 total ratings, 2 with reviews        2   \n",
       "2       4.2  339 ratings  339 total ratings, 268 with reviews        3   \n",
       "3       4.4  727 ratings  727 total ratings, 594 with reviews        4   \n",
       "4       4.2    8 ratings      8 total ratings, 6 with reviews        5   \n",
       "..      ...          ...                                  ...      ...   \n",
       "355     2.9    8 ratings      8 total ratings, 6 with reviews      356   \n",
       "356     4.2   71 ratings    71 total ratings, 60 with reviews      357   \n",
       "357     4.4  441 ratings  441 total ratings, 291 with reviews      358   \n",
       "358     4.3  361 ratings   361 total ratings, 52 with reviews      359   \n",
       "359     4.5  198 ratings  198 total ratings, 127 with reviews      360   \n",
       "\n",
       "    Ratings_count Reviews_count     Brand  \\\n",
       "0             112            53  Atomberg   \n",
       "1               2             2  Atomberg   \n",
       "2             339           268      QUBO   \n",
       "3             727           594      QUBO   \n",
       "4               8             6     LAVNA   \n",
       "..            ...           ...       ...   \n",
       "355             8             6      Yale   \n",
       "356            71            60    Golens   \n",
       "357           441           291    Godrej   \n",
       "358           361            52      Yale   \n",
       "359           198           127    Godrej   \n",
       "\n",
       "                                               SK_name  \n",
       "0     SL 1 Smart Door Lock | 6 Ways Unlocking | Fin...  \n",
       "1     Azhero Smart Door Lock | 6 Ways Unlocking | F...  \n",
       "2     Smart Door Lock Essential from Hero Group | 6...  \n",
       "3     Smart Door Lock Essential from Hero Group | 6...  \n",
       "4     Smart Fingerprint Padlock with 2 way access F...  \n",
       "..                                                 ...  \n",
       "355   YSS/250/EB1 20.5L Smart Safe Locker | Bluetoo...  \n",
       "356   X59 Smart Door Lock with | Fingerprint | Mobi...  \n",
       "357   Smart Lock I Catus Connect I Digital Lock for...  \n",
       "358   YDM 7116 Smart Door Lock with Mortsie Lock | ...  \n",
       "359   Smart Lock I Catus Touch Plus I Digital Lock ...  \n",
       "\n",
       "[360 rows x 11 columns]"
      ]
     },
     "execution_count": 8,
     "metadata": {},
     "output_type": "execute_result"
    }
   ],
   "source": [
    "df['SK_name'] = df['Product Name'].apply(lambda row: row.replace(row.split(' ')[0], '') if isinstance(row, str) else np.nan)\n",
    "df"
   ]
  },
  {
   "cell_type": "code",
   "execution_count": 9,
   "id": "95fb9e48",
   "metadata": {},
   "outputs": [],
   "source": [
    "df_cleaned = df.dropna(subset=['Product Name'])"
   ]
  },
  {
   "cell_type": "code",
   "execution_count": 10,
   "id": "0c2f8056",
   "metadata": {
    "scrolled": true
   },
   "outputs": [
    {
     "data": {
      "text/plain": [
       "Unnamed: 0         0\n",
       "Product Name       0\n",
       "Price              6\n",
       "Rating           112\n",
       "Rating_count     111\n",
       "Review_count     134\n",
       "Ranking            0\n",
       "Ratings_count      0\n",
       "Reviews_count      0\n",
       "Brand              0\n",
       "SK_name            0\n",
       "dtype: int64"
      ]
     },
     "execution_count": 10,
     "metadata": {},
     "output_type": "execute_result"
    }
   ],
   "source": [
    "df_cleaned.isnull().sum()"
   ]
  },
  {
   "cell_type": "code",
   "execution_count": 11,
   "id": "c2f0a5fc",
   "metadata": {},
   "outputs": [],
   "source": [
    "df_clean= df_cleaned.drop(columns=['Rating_count','Review_count','Unnamed: 0'])"
   ]
  },
  {
   "cell_type": "code",
   "execution_count": 12,
   "id": "cbb0e64f",
   "metadata": {},
   "outputs": [
    {
     "data": {
      "text/plain": [
       "0      4.3\n",
       "1      5.0\n",
       "2      4.2\n",
       "3      4.4\n",
       "4      4.2\n",
       "      ... \n",
       "355    2.9\n",
       "356    4.2\n",
       "357    4.4\n",
       "358    4.3\n",
       "359    4.5\n",
       "Name: Rating, Length: 356, dtype: float64"
      ]
     },
     "execution_count": 12,
     "metadata": {},
     "output_type": "execute_result"
    }
   ],
   "source": [
    "df_clean['Rating']= df_clean['Rating'].replace(np.nan,0)\n",
    "df_clean['Rating']"
   ]
  },
  {
   "cell_type": "code",
   "execution_count": 13,
   "id": "652b7473",
   "metadata": {},
   "outputs": [
    {
     "data": {
      "text/plain": [
       "Product Name     0\n",
       "Price            6\n",
       "Rating           0\n",
       "Ranking          0\n",
       "Ratings_count    0\n",
       "Reviews_count    0\n",
       "Brand            0\n",
       "SK_name          0\n",
       "dtype: int64"
      ]
     },
     "execution_count": 13,
     "metadata": {},
     "output_type": "execute_result"
    }
   ],
   "source": [
    "df_clean.isnull().sum()"
   ]
  },
  {
   "cell_type": "code",
   "execution_count": 14,
   "id": "2d4d58ff",
   "metadata": {},
   "outputs": [
    {
     "data": {
      "text/html": [
       "<div>\n",
       "<style scoped>\n",
       "    .dataframe tbody tr th:only-of-type {\n",
       "        vertical-align: middle;\n",
       "    }\n",
       "\n",
       "    .dataframe tbody tr th {\n",
       "        vertical-align: top;\n",
       "    }\n",
       "\n",
       "    .dataframe thead th {\n",
       "        text-align: right;\n",
       "    }\n",
       "</style>\n",
       "<table border=\"1\" class=\"dataframe\">\n",
       "  <thead>\n",
       "    <tr style=\"text-align: right;\">\n",
       "      <th></th>\n",
       "      <th>Product Name</th>\n",
       "      <th>Price</th>\n",
       "      <th>Rating</th>\n",
       "      <th>Ranking</th>\n",
       "      <th>Ratings_count</th>\n",
       "      <th>Reviews_count</th>\n",
       "      <th>Brand</th>\n",
       "      <th>SK_name</th>\n",
       "    </tr>\n",
       "  </thead>\n",
       "  <tbody>\n",
       "    <tr>\n",
       "      <th>0</th>\n",
       "      <td>Atomberg SL 1 Smart Door Lock | 6 Ways Unlocki...</td>\n",
       "      <td>16,189</td>\n",
       "      <td>4.3</td>\n",
       "      <td>1</td>\n",
       "      <td>112</td>\n",
       "      <td>53</td>\n",
       "      <td>Atomberg</td>\n",
       "      <td>SL 1 Smart Door Lock | 6 Ways Unlocking | Fin...</td>\n",
       "    </tr>\n",
       "    <tr>\n",
       "      <th>1</th>\n",
       "      <td>Atomberg Azhero Smart Door Lock | 6 Ways Unloc...</td>\n",
       "      <td>10,899</td>\n",
       "      <td>5.0</td>\n",
       "      <td>2</td>\n",
       "      <td>2</td>\n",
       "      <td>2</td>\n",
       "      <td>Atomberg</td>\n",
       "      <td>Azhero Smart Door Lock | 6 Ways Unlocking | F...</td>\n",
       "    </tr>\n",
       "    <tr>\n",
       "      <th>2</th>\n",
       "      <td>QUBO Smart Door Lock Essential from Hero Group...</td>\n",
       "      <td>9,464</td>\n",
       "      <td>4.2</td>\n",
       "      <td>3</td>\n",
       "      <td>339</td>\n",
       "      <td>268</td>\n",
       "      <td>QUBO</td>\n",
       "      <td>Smart Door Lock Essential from Hero Group | 6...</td>\n",
       "    </tr>\n",
       "    <tr>\n",
       "      <th>3</th>\n",
       "      <td>QUBO Smart Door Lock Essential from Hero Group...</td>\n",
       "      <td>8,937</td>\n",
       "      <td>4.4</td>\n",
       "      <td>4</td>\n",
       "      <td>727</td>\n",
       "      <td>594</td>\n",
       "      <td>QUBO</td>\n",
       "      <td>Smart Door Lock Essential from Hero Group | 6...</td>\n",
       "    </tr>\n",
       "    <tr>\n",
       "      <th>4</th>\n",
       "      <td>LAVNA Smart Fingerprint Padlock with 2 way acc...</td>\n",
       "      <td>1,899</td>\n",
       "      <td>4.2</td>\n",
       "      <td>5</td>\n",
       "      <td>8</td>\n",
       "      <td>6</td>\n",
       "      <td>LAVNA</td>\n",
       "      <td>Smart Fingerprint Padlock with 2 way access F...</td>\n",
       "    </tr>\n",
       "    <tr>\n",
       "      <th>...</th>\n",
       "      <td>...</td>\n",
       "      <td>...</td>\n",
       "      <td>...</td>\n",
       "      <td>...</td>\n",
       "      <td>...</td>\n",
       "      <td>...</td>\n",
       "      <td>...</td>\n",
       "      <td>...</td>\n",
       "    </tr>\n",
       "    <tr>\n",
       "      <th>355</th>\n",
       "      <td>Yale YSS/250/EB1 20.5L Smart Safe Locker | Blu...</td>\n",
       "      <td>25,499</td>\n",
       "      <td>2.9</td>\n",
       "      <td>356</td>\n",
       "      <td>8</td>\n",
       "      <td>6</td>\n",
       "      <td>Yale</td>\n",
       "      <td>YSS/250/EB1 20.5L Smart Safe Locker | Bluetoo...</td>\n",
       "    </tr>\n",
       "    <tr>\n",
       "      <th>356</th>\n",
       "      <td>Golens X59 Smart Door Lock with | Fingerprint ...</td>\n",
       "      <td>12,499</td>\n",
       "      <td>4.2</td>\n",
       "      <td>357</td>\n",
       "      <td>71</td>\n",
       "      <td>60</td>\n",
       "      <td>Golens</td>\n",
       "      <td>X59 Smart Door Lock with | Fingerprint | Mobi...</td>\n",
       "    </tr>\n",
       "    <tr>\n",
       "      <th>357</th>\n",
       "      <td>Godrej Smart Lock I Catus Connect I Digital Lo...</td>\n",
       "      <td>15,285</td>\n",
       "      <td>4.4</td>\n",
       "      <td>358</td>\n",
       "      <td>441</td>\n",
       "      <td>291</td>\n",
       "      <td>Godrej</td>\n",
       "      <td>Smart Lock I Catus Connect I Digital Lock for...</td>\n",
       "    </tr>\n",
       "    <tr>\n",
       "      <th>358</th>\n",
       "      <td>Yale YDM 7116 Smart Door Lock with Mortsie Loc...</td>\n",
       "      <td>48,999</td>\n",
       "      <td>4.3</td>\n",
       "      <td>359</td>\n",
       "      <td>361</td>\n",
       "      <td>52</td>\n",
       "      <td>Yale</td>\n",
       "      <td>YDM 7116 Smart Door Lock with Mortsie Lock | ...</td>\n",
       "    </tr>\n",
       "    <tr>\n",
       "      <th>359</th>\n",
       "      <td>Godrej Smart Lock I Catus Touch Plus I Digital...</td>\n",
       "      <td>11,945</td>\n",
       "      <td>4.5</td>\n",
       "      <td>360</td>\n",
       "      <td>198</td>\n",
       "      <td>127</td>\n",
       "      <td>Godrej</td>\n",
       "      <td>Smart Lock I Catus Touch Plus I Digital Lock ...</td>\n",
       "    </tr>\n",
       "  </tbody>\n",
       "</table>\n",
       "<p>356 rows × 8 columns</p>\n",
       "</div>"
      ],
      "text/plain": [
       "                                          Product Name   Price  Rating  \\\n",
       "0    Atomberg SL 1 Smart Door Lock | 6 Ways Unlocki...  16,189     4.3   \n",
       "1    Atomberg Azhero Smart Door Lock | 6 Ways Unloc...  10,899     5.0   \n",
       "2    QUBO Smart Door Lock Essential from Hero Group...   9,464     4.2   \n",
       "3    QUBO Smart Door Lock Essential from Hero Group...   8,937     4.4   \n",
       "4    LAVNA Smart Fingerprint Padlock with 2 way acc...   1,899     4.2   \n",
       "..                                                 ...     ...     ...   \n",
       "355  Yale YSS/250/EB1 20.5L Smart Safe Locker | Blu...  25,499     2.9   \n",
       "356  Golens X59 Smart Door Lock with | Fingerprint ...  12,499     4.2   \n",
       "357  Godrej Smart Lock I Catus Connect I Digital Lo...  15,285     4.4   \n",
       "358  Yale YDM 7116 Smart Door Lock with Mortsie Loc...  48,999     4.3   \n",
       "359  Godrej Smart Lock I Catus Touch Plus I Digital...  11,945     4.5   \n",
       "\n",
       "     Ranking Ratings_count Reviews_count     Brand  \\\n",
       "0          1           112            53  Atomberg   \n",
       "1          2             2             2  Atomberg   \n",
       "2          3           339           268      QUBO   \n",
       "3          4           727           594      QUBO   \n",
       "4          5             8             6     LAVNA   \n",
       "..       ...           ...           ...       ...   \n",
       "355      356             8             6      Yale   \n",
       "356      357            71            60    Golens   \n",
       "357      358           441           291    Godrej   \n",
       "358      359           361            52      Yale   \n",
       "359      360           198           127    Godrej   \n",
       "\n",
       "                                               SK_name  \n",
       "0     SL 1 Smart Door Lock | 6 Ways Unlocking | Fin...  \n",
       "1     Azhero Smart Door Lock | 6 Ways Unlocking | F...  \n",
       "2     Smart Door Lock Essential from Hero Group | 6...  \n",
       "3     Smart Door Lock Essential from Hero Group | 6...  \n",
       "4     Smart Fingerprint Padlock with 2 way access F...  \n",
       "..                                                 ...  \n",
       "355   YSS/250/EB1 20.5L Smart Safe Locker | Bluetoo...  \n",
       "356   X59 Smart Door Lock with | Fingerprint | Mobi...  \n",
       "357   Smart Lock I Catus Connect I Digital Lock for...  \n",
       "358   YDM 7116 Smart Door Lock with Mortsie Lock | ...  \n",
       "359   Smart Lock I Catus Touch Plus I Digital Lock ...  \n",
       "\n",
       "[356 rows x 8 columns]"
      ]
     },
     "execution_count": 14,
     "metadata": {},
     "output_type": "execute_result"
    }
   ],
   "source": [
    "df_clean"
   ]
  },
  {
   "cell_type": "code",
   "execution_count": 15,
   "id": "af2f52cf",
   "metadata": {},
   "outputs": [
    {
     "data": {
      "text/html": [
       "<div>\n",
       "<style scoped>\n",
       "    .dataframe tbody tr th:only-of-type {\n",
       "        vertical-align: middle;\n",
       "    }\n",
       "\n",
       "    .dataframe tbody tr th {\n",
       "        vertical-align: top;\n",
       "    }\n",
       "\n",
       "    .dataframe thead th {\n",
       "        text-align: right;\n",
       "    }\n",
       "</style>\n",
       "<table border=\"1\" class=\"dataframe\">\n",
       "  <thead>\n",
       "    <tr style=\"text-align: right;\">\n",
       "      <th></th>\n",
       "      <th>Product Name</th>\n",
       "      <th>Price</th>\n",
       "      <th>Rating</th>\n",
       "      <th>Ranking</th>\n",
       "      <th>Ratings_count</th>\n",
       "      <th>Reviews_count</th>\n",
       "      <th>Brand</th>\n",
       "      <th>SK_name</th>\n",
       "    </tr>\n",
       "  </thead>\n",
       "  <tbody>\n",
       "    <tr>\n",
       "      <th>0</th>\n",
       "      <td>Atomberg SL 1 Smart Door Lock | 6 Ways Unlocki...</td>\n",
       "      <td>16,189</td>\n",
       "      <td>4.3</td>\n",
       "      <td>1</td>\n",
       "      <td>112</td>\n",
       "      <td>53</td>\n",
       "      <td>Atomberg</td>\n",
       "      <td>SL 1 Smart Door Lock | 6 Ways Unlocking | Fin...</td>\n",
       "    </tr>\n",
       "    <tr>\n",
       "      <th>1</th>\n",
       "      <td>Atomberg Azhero Smart Door Lock | 6 Ways Unloc...</td>\n",
       "      <td>10,899</td>\n",
       "      <td>5.0</td>\n",
       "      <td>2</td>\n",
       "      <td>2</td>\n",
       "      <td>2</td>\n",
       "      <td>Atomberg</td>\n",
       "      <td>Azhero Smart Door Lock | 6 Ways Unlocking | F...</td>\n",
       "    </tr>\n",
       "    <tr>\n",
       "      <th>2</th>\n",
       "      <td>QUBO Smart Door Lock Essential from Hero Group...</td>\n",
       "      <td>9,464</td>\n",
       "      <td>4.2</td>\n",
       "      <td>3</td>\n",
       "      <td>339</td>\n",
       "      <td>268</td>\n",
       "      <td>QUBO</td>\n",
       "      <td>Smart Door Lock Essential from Hero Group | 6...</td>\n",
       "    </tr>\n",
       "    <tr>\n",
       "      <th>3</th>\n",
       "      <td>QUBO Smart Door Lock Essential from Hero Group...</td>\n",
       "      <td>8,937</td>\n",
       "      <td>4.4</td>\n",
       "      <td>4</td>\n",
       "      <td>727</td>\n",
       "      <td>594</td>\n",
       "      <td>QUBO</td>\n",
       "      <td>Smart Door Lock Essential from Hero Group | 6...</td>\n",
       "    </tr>\n",
       "    <tr>\n",
       "      <th>4</th>\n",
       "      <td>LAVNA Smart Fingerprint Padlock with 2 way acc...</td>\n",
       "      <td>1,899</td>\n",
       "      <td>4.2</td>\n",
       "      <td>5</td>\n",
       "      <td>8</td>\n",
       "      <td>6</td>\n",
       "      <td>LAVNA</td>\n",
       "      <td>Smart Fingerprint Padlock with 2 way access F...</td>\n",
       "    </tr>\n",
       "    <tr>\n",
       "      <th>...</th>\n",
       "      <td>...</td>\n",
       "      <td>...</td>\n",
       "      <td>...</td>\n",
       "      <td>...</td>\n",
       "      <td>...</td>\n",
       "      <td>...</td>\n",
       "      <td>...</td>\n",
       "      <td>...</td>\n",
       "    </tr>\n",
       "    <tr>\n",
       "      <th>355</th>\n",
       "      <td>Yale YSS/250/EB1 20.5L Smart Safe Locker | Blu...</td>\n",
       "      <td>25,499</td>\n",
       "      <td>2.9</td>\n",
       "      <td>356</td>\n",
       "      <td>8</td>\n",
       "      <td>6</td>\n",
       "      <td>Yale</td>\n",
       "      <td>YSS/250/EB1 20.5L Smart Safe Locker | Bluetoo...</td>\n",
       "    </tr>\n",
       "    <tr>\n",
       "      <th>356</th>\n",
       "      <td>Golens X59 Smart Door Lock with | Fingerprint ...</td>\n",
       "      <td>12,499</td>\n",
       "      <td>4.2</td>\n",
       "      <td>357</td>\n",
       "      <td>71</td>\n",
       "      <td>60</td>\n",
       "      <td>Golens</td>\n",
       "      <td>X59 Smart Door Lock with | Fingerprint | Mobi...</td>\n",
       "    </tr>\n",
       "    <tr>\n",
       "      <th>357</th>\n",
       "      <td>Godrej Smart Lock I Catus Connect I Digital Lo...</td>\n",
       "      <td>15,285</td>\n",
       "      <td>4.4</td>\n",
       "      <td>358</td>\n",
       "      <td>441</td>\n",
       "      <td>291</td>\n",
       "      <td>Godrej</td>\n",
       "      <td>Smart Lock I Catus Connect I Digital Lock for...</td>\n",
       "    </tr>\n",
       "    <tr>\n",
       "      <th>358</th>\n",
       "      <td>Yale YDM 7116 Smart Door Lock with Mortsie Loc...</td>\n",
       "      <td>48,999</td>\n",
       "      <td>4.3</td>\n",
       "      <td>359</td>\n",
       "      <td>361</td>\n",
       "      <td>52</td>\n",
       "      <td>Yale</td>\n",
       "      <td>YDM 7116 Smart Door Lock with Mortsie Lock | ...</td>\n",
       "    </tr>\n",
       "    <tr>\n",
       "      <th>359</th>\n",
       "      <td>Godrej Smart Lock I Catus Touch Plus I Digital...</td>\n",
       "      <td>11,945</td>\n",
       "      <td>4.5</td>\n",
       "      <td>360</td>\n",
       "      <td>198</td>\n",
       "      <td>127</td>\n",
       "      <td>Godrej</td>\n",
       "      <td>Smart Lock I Catus Touch Plus I Digital Lock ...</td>\n",
       "    </tr>\n",
       "  </tbody>\n",
       "</table>\n",
       "<p>350 rows × 8 columns</p>\n",
       "</div>"
      ],
      "text/plain": [
       "                                          Product Name   Price  Rating  \\\n",
       "0    Atomberg SL 1 Smart Door Lock | 6 Ways Unlocki...  16,189     4.3   \n",
       "1    Atomberg Azhero Smart Door Lock | 6 Ways Unloc...  10,899     5.0   \n",
       "2    QUBO Smart Door Lock Essential from Hero Group...   9,464     4.2   \n",
       "3    QUBO Smart Door Lock Essential from Hero Group...   8,937     4.4   \n",
       "4    LAVNA Smart Fingerprint Padlock with 2 way acc...   1,899     4.2   \n",
       "..                                                 ...     ...     ...   \n",
       "355  Yale YSS/250/EB1 20.5L Smart Safe Locker | Blu...  25,499     2.9   \n",
       "356  Golens X59 Smart Door Lock with | Fingerprint ...  12,499     4.2   \n",
       "357  Godrej Smart Lock I Catus Connect I Digital Lo...  15,285     4.4   \n",
       "358  Yale YDM 7116 Smart Door Lock with Mortsie Loc...  48,999     4.3   \n",
       "359  Godrej Smart Lock I Catus Touch Plus I Digital...  11,945     4.5   \n",
       "\n",
       "     Ranking Ratings_count Reviews_count     Brand  \\\n",
       "0          1           112            53  Atomberg   \n",
       "1          2             2             2  Atomberg   \n",
       "2          3           339           268      QUBO   \n",
       "3          4           727           594      QUBO   \n",
       "4          5             8             6     LAVNA   \n",
       "..       ...           ...           ...       ...   \n",
       "355      356             8             6      Yale   \n",
       "356      357            71            60    Golens   \n",
       "357      358           441           291    Godrej   \n",
       "358      359           361            52      Yale   \n",
       "359      360           198           127    Godrej   \n",
       "\n",
       "                                               SK_name  \n",
       "0     SL 1 Smart Door Lock | 6 Ways Unlocking | Fin...  \n",
       "1     Azhero Smart Door Lock | 6 Ways Unlocking | F...  \n",
       "2     Smart Door Lock Essential from Hero Group | 6...  \n",
       "3     Smart Door Lock Essential from Hero Group | 6...  \n",
       "4     Smart Fingerprint Padlock with 2 way access F...  \n",
       "..                                                 ...  \n",
       "355   YSS/250/EB1 20.5L Smart Safe Locker | Bluetoo...  \n",
       "356   X59 Smart Door Lock with | Fingerprint | Mobi...  \n",
       "357   Smart Lock I Catus Connect I Digital Lock for...  \n",
       "358   YDM 7116 Smart Door Lock with Mortsie Lock | ...  \n",
       "359   Smart Lock I Catus Touch Plus I Digital Lock ...  \n",
       "\n",
       "[350 rows x 8 columns]"
      ]
     },
     "execution_count": 15,
     "metadata": {},
     "output_type": "execute_result"
    }
   ],
   "source": [
    "df_clean = df_clean.dropna(subset=['Price'])\n",
    "df_clean"
   ]
  },
  {
   "cell_type": "code",
   "execution_count": 16,
   "id": "c571d49f",
   "metadata": {},
   "outputs": [],
   "source": [
    "dup= df_clean.duplicated().any()"
   ]
  },
  {
   "cell_type": "code",
   "execution_count": 17,
   "id": "a6650b54",
   "metadata": {},
   "outputs": [
    {
     "name": "stdout",
     "output_type": "stream",
     "text": [
      "is there duplicates False\n"
     ]
    }
   ],
   "source": [
    "print(\"is there duplicates\",dup)"
   ]
  },
  {
   "cell_type": "code",
   "execution_count": 18,
   "id": "c7a74f7f",
   "metadata": {},
   "outputs": [],
   "source": [
    "data= df_clean"
   ]
  },
  {
   "cell_type": "code",
   "execution_count": 19,
   "id": "e6286792",
   "metadata": {},
   "outputs": [
    {
     "data": {
      "text/html": [
       "<div>\n",
       "<style scoped>\n",
       "    .dataframe tbody tr th:only-of-type {\n",
       "        vertical-align: middle;\n",
       "    }\n",
       "\n",
       "    .dataframe tbody tr th {\n",
       "        vertical-align: top;\n",
       "    }\n",
       "\n",
       "    .dataframe thead th {\n",
       "        text-align: right;\n",
       "    }\n",
       "</style>\n",
       "<table border=\"1\" class=\"dataframe\">\n",
       "  <thead>\n",
       "    <tr style=\"text-align: right;\">\n",
       "      <th></th>\n",
       "      <th>Product Name</th>\n",
       "      <th>Price</th>\n",
       "      <th>Rating</th>\n",
       "      <th>Ranking</th>\n",
       "      <th>Ratings_count</th>\n",
       "      <th>Reviews_count</th>\n",
       "      <th>Brand</th>\n",
       "      <th>SK_name</th>\n",
       "    </tr>\n",
       "  </thead>\n",
       "  <tbody>\n",
       "    <tr>\n",
       "      <th>0</th>\n",
       "      <td>Atomberg SL 1 Smart Door Lock | 6 Ways Unlocki...</td>\n",
       "      <td>16,189</td>\n",
       "      <td>4.3</td>\n",
       "      <td>1</td>\n",
       "      <td>112</td>\n",
       "      <td>53</td>\n",
       "      <td>Atomberg</td>\n",
       "      <td>SL 1 Smart Door Lock | 6 Ways Unlocking | Fin...</td>\n",
       "    </tr>\n",
       "    <tr>\n",
       "      <th>1</th>\n",
       "      <td>Atomberg Azhero Smart Door Lock | 6 Ways Unloc...</td>\n",
       "      <td>10,899</td>\n",
       "      <td>5.0</td>\n",
       "      <td>2</td>\n",
       "      <td>2</td>\n",
       "      <td>2</td>\n",
       "      <td>Atomberg</td>\n",
       "      <td>Azhero Smart Door Lock | 6 Ways Unlocking | F...</td>\n",
       "    </tr>\n",
       "    <tr>\n",
       "      <th>2</th>\n",
       "      <td>QUBO Smart Door Lock Essential from Hero Group...</td>\n",
       "      <td>9,464</td>\n",
       "      <td>4.2</td>\n",
       "      <td>3</td>\n",
       "      <td>339</td>\n",
       "      <td>268</td>\n",
       "      <td>QUBO</td>\n",
       "      <td>Smart Door Lock Essential from Hero Group | 6...</td>\n",
       "    </tr>\n",
       "    <tr>\n",
       "      <th>3</th>\n",
       "      <td>QUBO Smart Door Lock Essential from Hero Group...</td>\n",
       "      <td>8,937</td>\n",
       "      <td>4.4</td>\n",
       "      <td>4</td>\n",
       "      <td>727</td>\n",
       "      <td>594</td>\n",
       "      <td>QUBO</td>\n",
       "      <td>Smart Door Lock Essential from Hero Group | 6...</td>\n",
       "    </tr>\n",
       "    <tr>\n",
       "      <th>4</th>\n",
       "      <td>LAVNA Smart Fingerprint Padlock with 2 way acc...</td>\n",
       "      <td>1,899</td>\n",
       "      <td>4.2</td>\n",
       "      <td>5</td>\n",
       "      <td>8</td>\n",
       "      <td>6</td>\n",
       "      <td>LAVNA</td>\n",
       "      <td>Smart Fingerprint Padlock with 2 way access F...</td>\n",
       "    </tr>\n",
       "    <tr>\n",
       "      <th>...</th>\n",
       "      <td>...</td>\n",
       "      <td>...</td>\n",
       "      <td>...</td>\n",
       "      <td>...</td>\n",
       "      <td>...</td>\n",
       "      <td>...</td>\n",
       "      <td>...</td>\n",
       "      <td>...</td>\n",
       "    </tr>\n",
       "    <tr>\n",
       "      <th>355</th>\n",
       "      <td>Yale YSS/250/EB1 20.5L Smart Safe Locker | Blu...</td>\n",
       "      <td>25,499</td>\n",
       "      <td>2.9</td>\n",
       "      <td>356</td>\n",
       "      <td>8</td>\n",
       "      <td>6</td>\n",
       "      <td>Yale</td>\n",
       "      <td>YSS/250/EB1 20.5L Smart Safe Locker | Bluetoo...</td>\n",
       "    </tr>\n",
       "    <tr>\n",
       "      <th>356</th>\n",
       "      <td>Golens X59 Smart Door Lock with | Fingerprint ...</td>\n",
       "      <td>12,499</td>\n",
       "      <td>4.2</td>\n",
       "      <td>357</td>\n",
       "      <td>71</td>\n",
       "      <td>60</td>\n",
       "      <td>Golens</td>\n",
       "      <td>X59 Smart Door Lock with | Fingerprint | Mobi...</td>\n",
       "    </tr>\n",
       "    <tr>\n",
       "      <th>357</th>\n",
       "      <td>Godrej Smart Lock I Catus Connect I Digital Lo...</td>\n",
       "      <td>15,285</td>\n",
       "      <td>4.4</td>\n",
       "      <td>358</td>\n",
       "      <td>441</td>\n",
       "      <td>291</td>\n",
       "      <td>Godrej</td>\n",
       "      <td>Smart Lock I Catus Connect I Digital Lock for...</td>\n",
       "    </tr>\n",
       "    <tr>\n",
       "      <th>358</th>\n",
       "      <td>Yale YDM 7116 Smart Door Lock with Mortsie Loc...</td>\n",
       "      <td>48,999</td>\n",
       "      <td>4.3</td>\n",
       "      <td>359</td>\n",
       "      <td>361</td>\n",
       "      <td>52</td>\n",
       "      <td>Yale</td>\n",
       "      <td>YDM 7116 Smart Door Lock with Mortsie Lock | ...</td>\n",
       "    </tr>\n",
       "    <tr>\n",
       "      <th>359</th>\n",
       "      <td>Godrej Smart Lock I Catus Touch Plus I Digital...</td>\n",
       "      <td>11,945</td>\n",
       "      <td>4.5</td>\n",
       "      <td>360</td>\n",
       "      <td>198</td>\n",
       "      <td>127</td>\n",
       "      <td>Godrej</td>\n",
       "      <td>Smart Lock I Catus Touch Plus I Digital Lock ...</td>\n",
       "    </tr>\n",
       "  </tbody>\n",
       "</table>\n",
       "<p>350 rows × 8 columns</p>\n",
       "</div>"
      ],
      "text/plain": [
       "                                          Product Name   Price  Rating  \\\n",
       "0    Atomberg SL 1 Smart Door Lock | 6 Ways Unlocki...  16,189     4.3   \n",
       "1    Atomberg Azhero Smart Door Lock | 6 Ways Unloc...  10,899     5.0   \n",
       "2    QUBO Smart Door Lock Essential from Hero Group...   9,464     4.2   \n",
       "3    QUBO Smart Door Lock Essential from Hero Group...   8,937     4.4   \n",
       "4    LAVNA Smart Fingerprint Padlock with 2 way acc...   1,899     4.2   \n",
       "..                                                 ...     ...     ...   \n",
       "355  Yale YSS/250/EB1 20.5L Smart Safe Locker | Blu...  25,499     2.9   \n",
       "356  Golens X59 Smart Door Lock with | Fingerprint ...  12,499     4.2   \n",
       "357  Godrej Smart Lock I Catus Connect I Digital Lo...  15,285     4.4   \n",
       "358  Yale YDM 7116 Smart Door Lock with Mortsie Loc...  48,999     4.3   \n",
       "359  Godrej Smart Lock I Catus Touch Plus I Digital...  11,945     4.5   \n",
       "\n",
       "     Ranking Ratings_count Reviews_count     Brand  \\\n",
       "0          1           112            53  Atomberg   \n",
       "1          2             2             2  Atomberg   \n",
       "2          3           339           268      QUBO   \n",
       "3          4           727           594      QUBO   \n",
       "4          5             8             6     LAVNA   \n",
       "..       ...           ...           ...       ...   \n",
       "355      356             8             6      Yale   \n",
       "356      357            71            60    Golens   \n",
       "357      358           441           291    Godrej   \n",
       "358      359           361            52      Yale   \n",
       "359      360           198           127    Godrej   \n",
       "\n",
       "                                               SK_name  \n",
       "0     SL 1 Smart Door Lock | 6 Ways Unlocking | Fin...  \n",
       "1     Azhero Smart Door Lock | 6 Ways Unlocking | F...  \n",
       "2     Smart Door Lock Essential from Hero Group | 6...  \n",
       "3     Smart Door Lock Essential from Hero Group | 6...  \n",
       "4     Smart Fingerprint Padlock with 2 way access F...  \n",
       "..                                                 ...  \n",
       "355   YSS/250/EB1 20.5L Smart Safe Locker | Bluetoo...  \n",
       "356   X59 Smart Door Lock with | Fingerprint | Mobi...  \n",
       "357   Smart Lock I Catus Connect I Digital Lock for...  \n",
       "358   YDM 7116 Smart Door Lock with Mortsie Lock | ...  \n",
       "359   Smart Lock I Catus Touch Plus I Digital Lock ...  \n",
       "\n",
       "[350 rows x 8 columns]"
      ]
     },
     "execution_count": 19,
     "metadata": {},
     "output_type": "execute_result"
    }
   ],
   "source": [
    "data"
   ]
  },
  {
   "cell_type": "code",
   "execution_count": 20,
   "id": "e733c8bf",
   "metadata": {
    "scrolled": true
   },
   "outputs": [
    {
     "name": "stderr",
     "output_type": "stream",
     "text": [
      "C:\\Users\\sanju\\AppData\\Local\\Temp\\ipykernel_26372\\3017336077.py:1: SettingWithCopyWarning: \n",
      "A value is trying to be set on a copy of a slice from a DataFrame.\n",
      "Try using .loc[row_indexer,col_indexer] = value instead\n",
      "\n",
      "See the caveats in the documentation: https://pandas.pydata.org/pandas-docs/stable/user_guide/indexing.html#returning-a-view-versus-a-copy\n",
      "  data['Ratings_count']= pd.to_numeric(data.Ratings_count, errors='coerce')\n",
      "C:\\Users\\sanju\\AppData\\Local\\Temp\\ipykernel_26372\\3017336077.py:2: SettingWithCopyWarning: \n",
      "A value is trying to be set on a copy of a slice from a DataFrame.\n",
      "Try using .loc[row_indexer,col_indexer] = value instead\n",
      "\n",
      "See the caveats in the documentation: https://pandas.pydata.org/pandas-docs/stable/user_guide/indexing.html#returning-a-view-versus-a-copy\n",
      "  data['Reviews_count']= pd.to_numeric(data.Reviews_count, errors='coerce')\n"
     ]
    }
   ],
   "source": [
    "data['Ratings_count']= pd.to_numeric(data.Ratings_count, errors='coerce')\n",
    "data['Reviews_count']= pd.to_numeric(data.Reviews_count, errors='coerce')\n"
   ]
  },
  {
   "cell_type": "code",
   "execution_count": 21,
   "id": "0c9e33f9",
   "metadata": {},
   "outputs": [
    {
     "data": {
      "text/plain": [
       "Product Name      object\n",
       "Price             object\n",
       "Rating           float64\n",
       "Ranking            int64\n",
       "Ratings_count    float64\n",
       "Reviews_count    float64\n",
       "Brand             object\n",
       "SK_name           object\n",
       "dtype: object"
      ]
     },
     "execution_count": 21,
     "metadata": {},
     "output_type": "execute_result"
    }
   ],
   "source": [
    "data.dtypes"
   ]
  },
  {
   "cell_type": "markdown",
   "id": "889242f3",
   "metadata": {},
   "source": [
    "### 1. Number of brands in the segment"
   ]
  },
  {
   "cell_type": "code",
   "execution_count": 22,
   "id": "4bfb0904",
   "metadata": {},
   "outputs": [
    {
     "name": "stderr",
     "output_type": "stream",
     "text": [
      "C:\\Users\\sanju\\AppData\\Local\\Temp\\ipykernel_26372\\3636375731.py:1: SettingWithCopyWarning: \n",
      "A value is trying to be set on a copy of a slice from a DataFrame.\n",
      "Try using .loc[row_indexer,col_indexer] = value instead\n",
      "\n",
      "See the caveats in the documentation: https://pandas.pydata.org/pandas-docs/stable/user_guide/indexing.html#returning-a-view-versus-a-copy\n",
      "  data['Brand']= data['Brand'].str.lower()\n"
     ]
    }
   ],
   "source": [
    "data['Brand']= data['Brand'].str.lower()"
   ]
  },
  {
   "cell_type": "code",
   "execution_count": 23,
   "id": "2dafa794",
   "metadata": {},
   "outputs": [
    {
     "data": {
      "text/plain": [
       "array(['atomberg', 'qubo', 'lavna', 'godrej', 'okos', 'plantex', 'speedy',\n",
       "       'uniy', 'yale', 'escozor', 'golens', 'valencia-', 'escozor®',\n",
       "       'denler', 'helett', 'grob', 'ozone', 'ifitech', 'qawachh', 'mars',\n",
       "       'delta', 'bonkaso', 'ironzon', 'nexmot', 'team', 'homemate',\n",
       "       'foora', 'gordej', 'daonphari', 'equal', 'dorset', 'uniy®',\n",
       "       'bioenable', 'code', 'jal', 'smart', 'bytbots', 'mx', 'triant',\n",
       "       'dorphin', 'hawkvision', 'fingerprint', 'ezviz', 'putmax',\n",
       "       'autens', 'tmezon', 'the', 'tuchware', 'codace', 'lockly',\n",
       "       'drawer', 'leccy', 'houzmatic', 'inllex', 'fipilock', 'ghome',\n",
       "       'jenix', 'amicismart', 'ezlife', 'zkteco', 'abez', 'securam',\n",
       "       'geek', 'vizid', 'hafele', 'lockomatic', 'iplug', 'navkar',\n",
       "       'excluzo', 'gunally', 'realtime', 'wallton', 'delavala', 'abez-',\n",
       "       'folohaos', 'mukhivala', 'honexa', 'dhvaj', 'digital', 'premvati',\n",
       "       'ketumal', 'ipsa', 'lacasa', 'jainson', 'olpad', 'iuknob',\n",
       "       'pulido', 'bolt.czar', 'ankh', 'losa', 'i-touch', 'rfid',\n",
       "       'blusafe'], dtype=object)"
      ]
     },
     "execution_count": 23,
     "metadata": {},
     "output_type": "execute_result"
    }
   ],
   "source": [
    " data['Brand'].unique()"
   ]
  },
  {
   "cell_type": "code",
   "execution_count": 24,
   "id": "3fe4d5a9",
   "metadata": {},
   "outputs": [
    {
     "name": "stderr",
     "output_type": "stream",
     "text": [
      "C:\\Users\\sanju\\AppData\\Local\\Temp\\ipykernel_26372\\3763048475.py:1: SettingWithCopyWarning: \n",
      "A value is trying to be set on a copy of a slice from a DataFrame.\n",
      "Try using .loc[row_indexer,col_indexer] = value instead\n",
      "\n",
      "See the caveats in the documentation: https://pandas.pydata.org/pandas-docs/stable/user_guide/indexing.html#returning-a-view-versus-a-copy\n",
      "  data['Brand']= data['Brand'].replace('the','quba')\n",
      "C:\\Users\\sanju\\AppData\\Local\\Temp\\ipykernel_26372\\3763048475.py:2: SettingWithCopyWarning: \n",
      "A value is trying to be set on a copy of a slice from a DataFrame.\n",
      "Try using .loc[row_indexer,col_indexer] = value instead\n",
      "\n",
      "See the caveats in the documentation: https://pandas.pydata.org/pandas-docs/stable/user_guide/indexing.html#returning-a-view-versus-a-copy\n",
      "  data['Brand']= data['Brand'].replace('escozor®','escozor')\n",
      "C:\\Users\\sanju\\AppData\\Local\\Temp\\ipykernel_26372\\3763048475.py:3: SettingWithCopyWarning: \n",
      "A value is trying to be set on a copy of a slice from a DataFrame.\n",
      "Try using .loc[row_indexer,col_indexer] = value instead\n",
      "\n",
      "See the caveats in the documentation: https://pandas.pydata.org/pandas-docs/stable/user_guide/indexing.html#returning-a-view-versus-a-copy\n",
      "  data['Brand']= data['Brand'].replace('uniy®','uniy')\n",
      "C:\\Users\\sanju\\AppData\\Local\\Temp\\ipykernel_26372\\3763048475.py:4: SettingWithCopyWarning: \n",
      "A value is trying to be set on a copy of a slice from a DataFrame.\n",
      "Try using .loc[row_indexer,col_indexer] = value instead\n",
      "\n",
      "See the caveats in the documentation: https://pandas.pydata.org/pandas-docs/stable/user_guide/indexing.html#returning-a-view-versus-a-copy\n",
      "  data['Brand']= data['Brand'].replace('fingerprint','unknown')\n",
      "C:\\Users\\sanju\\AppData\\Local\\Temp\\ipykernel_26372\\3763048475.py:5: SettingWithCopyWarning: \n",
      "A value is trying to be set on a copy of a slice from a DataFrame.\n",
      "Try using .loc[row_indexer,col_indexer] = value instead\n",
      "\n",
      "See the caveats in the documentation: https://pandas.pydata.org/pandas-docs/stable/user_guide/indexing.html#returning-a-view-versus-a-copy\n",
      "  data['Brand']= data['Brand'].replace('abez-','abez')\n",
      "C:\\Users\\sanju\\AppData\\Local\\Temp\\ipykernel_26372\\3763048475.py:6: SettingWithCopyWarning: \n",
      "A value is trying to be set on a copy of a slice from a DataFrame.\n",
      "Try using .loc[row_indexer,col_indexer] = value instead\n",
      "\n",
      "See the caveats in the documentation: https://pandas.pydata.org/pandas-docs/stable/user_guide/indexing.html#returning-a-view-versus-a-copy\n",
      "  data['Brand']= data['Brand'].replace('Team','unknown')\n",
      "C:\\Users\\sanju\\AppData\\Local\\Temp\\ipykernel_26372\\3763048475.py:7: SettingWithCopyWarning: \n",
      "A value is trying to be set on a copy of a slice from a DataFrame.\n",
      "Try using .loc[row_indexer,col_indexer] = value instead\n",
      "\n",
      "See the caveats in the documentation: https://pandas.pydata.org/pandas-docs/stable/user_guide/indexing.html#returning-a-view-versus-a-copy\n",
      "  data['Brand']= data['Brand'].replace('Jal','unknown')\n",
      "C:\\Users\\sanju\\AppData\\Local\\Temp\\ipykernel_26372\\3763048475.py:8: SettingWithCopyWarning: \n",
      "A value is trying to be set on a copy of a slice from a DataFrame.\n",
      "Try using .loc[row_indexer,col_indexer] = value instead\n",
      "\n",
      "See the caveats in the documentation: https://pandas.pydata.org/pandas-docs/stable/user_guide/indexing.html#returning-a-view-versus-a-copy\n",
      "  data['Brand']= data['Brand'].replace('smart','unknown')\n",
      "C:\\Users\\sanju\\AppData\\Local\\Temp\\ipykernel_26372\\3763048475.py:9: SettingWithCopyWarning: \n",
      "A value is trying to be set on a copy of a slice from a DataFrame.\n",
      "Try using .loc[row_indexer,col_indexer] = value instead\n",
      "\n",
      "See the caveats in the documentation: https://pandas.pydata.org/pandas-docs/stable/user_guide/indexing.html#returning-a-view-versus-a-copy\n",
      "  data['Brand']= data['Brand'].replace('drawer','unknown')\n",
      "C:\\Users\\sanju\\AppData\\Local\\Temp\\ipykernel_26372\\3763048475.py:10: SettingWithCopyWarning: \n",
      "A value is trying to be set on a copy of a slice from a DataFrame.\n",
      "Try using .loc[row_indexer,col_indexer] = value instead\n",
      "\n",
      "See the caveats in the documentation: https://pandas.pydata.org/pandas-docs/stable/user_guide/indexing.html#returning-a-view-versus-a-copy\n",
      "  data['Brand']= data['Brand'].replace('digital','unknown')\n"
     ]
    }
   ],
   "source": [
    "data['Brand']= data['Brand'].replace('the','quba')\n",
    "data['Brand']= data['Brand'].replace('escozor®','escozor')\n",
    "data['Brand']= data['Brand'].replace('uniy®','uniy')\n",
    "data['Brand']= data['Brand'].replace('fingerprint','unknown')\n",
    "data['Brand']= data['Brand'].replace('abez-','abez')\n",
    "data['Brand']= data['Brand'].replace('Team','unknown')\n",
    "data['Brand']= data['Brand'].replace('Jal','unknown')\n",
    "data['Brand']= data['Brand'].replace('smart','unknown')\n",
    "data['Brand']= data['Brand'].replace('drawer','unknown')\n",
    "data['Brand']= data['Brand'].replace('digital','unknown')\n",
    "data['Brand']= data['Brand'].replace('valencia-','valencia')"
   ]
  },
  {
   "cell_type": "code",
   "execution_count": 25,
   "id": "55fe063c",
   "metadata": {},
   "outputs": [
    {
     "data": {
      "text/plain": [
       "array(['atomberg', 'qubo', 'lavna', 'godrej', 'okos', 'plantex', 'speedy',\n",
       "       'uniy', 'yale', 'escozor', 'golens', 'valencia-', 'denler',\n",
       "       'helett', 'grob', 'ozone', 'ifitech', 'qawachh', 'mars', 'delta',\n",
       "       'bonkaso', 'ironzon', 'nexmot', 'team', 'homemate', 'foora',\n",
       "       'gordej', 'daonphari', 'equal', 'dorset', 'bioenable', 'code',\n",
       "       'jal', 'unknown', 'bytbots', 'mx', 'triant', 'dorphin',\n",
       "       'hawkvision', 'ezviz', 'putmax', 'autens', 'tmezon', 'quba',\n",
       "       'tuchware', 'codace', 'lockly', 'leccy', 'houzmatic', 'inllex',\n",
       "       'fipilock', 'ghome', 'jenix', 'amicismart', 'ezlife', 'zkteco',\n",
       "       'abez', 'securam', 'geek', 'vizid', 'hafele', 'lockomatic',\n",
       "       'iplug', 'navkar', 'excluzo', 'gunally', 'realtime', 'wallton',\n",
       "       'delavala', 'folohaos', 'mukhivala', 'honexa', 'dhvaj', 'premvati',\n",
       "       'ketumal', 'ipsa', 'lacasa', 'jainson', 'olpad', 'iuknob',\n",
       "       'pulido', 'bolt.czar', 'ankh', 'losa', 'i-touch', 'rfid',\n",
       "       'blusafe'], dtype=object)"
      ]
     },
     "execution_count": 25,
     "metadata": {},
     "output_type": "execute_result"
    }
   ],
   "source": [
    "data['Brand'].unique()"
   ]
  },
  {
   "cell_type": "code",
   "execution_count": 26,
   "id": "be6dd7d5",
   "metadata": {},
   "outputs": [
    {
     "data": {
      "text/plain": [
       "87"
      ]
     },
     "execution_count": 26,
     "metadata": {},
     "output_type": "execute_result"
    }
   ],
   "source": [
    "data['Brand'].nunique()"
   ]
  },
  {
   "cell_type": "markdown",
   "id": "672639d4",
   "metadata": {},
   "source": [
    "Insights: There are 87 unique brands in the Smart Lock segment."
   ]
  },
  {
   "cell_type": "markdown",
   "id": "9cb998a9",
   "metadata": {},
   "source": [
    "### 2. Count of SKUs per brand "
   ]
  },
  {
   "cell_type": "code",
   "execution_count": 27,
   "id": "4d8fa513",
   "metadata": {},
   "outputs": [
    {
     "data": {
      "text/plain": [
       "Brand\n",
       "golens        45\n",
       "godrej        23\n",
       "yale          22\n",
       "escozor       19\n",
       "ozone         19\n",
       "unknown       18\n",
       "dorset        16\n",
       "lavna         16\n",
       "denler        15\n",
       "tuchware       9\n",
       "qubo           8\n",
       "okos           8\n",
       "homemate       5\n",
       "iplug          5\n",
       "uniy           5\n",
       "atomberg       5\n",
       "vizid          4\n",
       "excluzo        4\n",
       "hawkvision     4\n",
       "nexmot         4\n",
       "Name: SK_name, dtype: int64"
      ]
     },
     "execution_count": 27,
     "metadata": {},
     "output_type": "execute_result"
    }
   ],
   "source": [
    "sku_count = data.groupby('Brand')['SK_name'].count().sort_values(ascending= False).head(20)\n",
    "sku_count"
   ]
  },
  {
   "cell_type": "code",
   "execution_count": 28,
   "id": "4e589960",
   "metadata": {},
   "outputs": [
    {
     "data": {
      "text/plain": [
       "Text(0.5, 0, 'count of SKU name')"
      ]
     },
     "execution_count": 28,
     "metadata": {},
     "output_type": "execute_result"
    },
    {
     "data": {
      "image/png": "[encoded data removed]",
      "text/plain": [
       "<Figure size 1000x500 with 1 Axes>"
      ]
     },
     "metadata": {},
     "output_type": "display_data"
    }
   ],
   "source": [
    "sk= sku_count.head(10)\n",
    "sns.set(rc={'figure.figsize':(10,5)})\n",
    "sk.plot(kind= 'barh')\n",
    "plt.xlabel('count of SKU name')"
   ]
  },
  {
   "cell_type": "markdown",
   "id": "87164e48",
   "metadata": {},
   "source": [
    "Insights: Around 45 products of Golens Brand are there in the dataset which is the highest number. Godrej, Yale,\n",
    "Escozor and ozone have 23, 22 and 19 products displayed in the website\n"
   ]
  },
  {
   "cell_type": "markdown",
   "id": "9cf3fa3f",
   "metadata": {},
   "source": [
    "### Relative ranking and relative rating:"
   ]
  },
  {
   "cell_type": "code",
   "execution_count": 39,
   "id": "2a5814d8",
   "metadata": {},
   "outputs": [
    {
     "name": "stdout",
     "output_type": "stream",
     "text": [
      "top 5 brands:\n",
      "         Brand  Relative Ranking  Relative Rating\n",
      "65    plantex             15.00            0.000\n",
      "3    atomberg             24.40            4.720\n",
      "71       qubo             27.75            4.325\n",
      "82  valencia-             28.00            4.200\n",
      "75     speedy             37.00            4.700\n",
      "top 5 brands:\n",
      "       Brand  Relative Ranking  Relative Rating\n",
      "2      ankh             342.0              0.0\n",
      "56     losa             343.0              0.0\n",
      "40  i-touch             346.0              0.0\n",
      "73     rfid             348.0              0.0\n",
      "6   blusafe             353.0              4.2\n"
     ]
    }
   ],
   "source": [
    "# Calculating Relative Ranking for each Brand\n",
    "relative_ranking = data.groupby('Brand').agg({'Ranking': 'mean'}).rename(columns={'Ranking': 'Relative Ranking'})\n",
    "\n",
    "# Calculating Relative Rating for each Brand\n",
    "relative_rating = data.groupby('Brand').agg({'Rating': 'mean'}).rename(columns={'Rating': 'Relative Rating'})\n",
    "\n",
    "# Merging the results into one DataFrame\n",
    "brand_analysis = relative_ranking.merge(relative_rating, on='Brand').reset_index().sort_values(by= ['Relative Ranking','Relative Rating'])\n",
    "\n",
    "# Display the results\n",
    "print(\"top 5 brands:\\n\",brand_analysis.head(5))\n",
    "print(\"top 5 brands:\\n\",brand_analysis.tail(5))"
   ]
  },
  {
   "cell_type": "markdown",
   "id": "3c06ebc5",
   "metadata": {},
   "source": [
    "Insights:\n",
    "\n",
    "Top 5 brands according to the relative ranking and relative rating are plantex, atomberg, qubo, valencia and speedy.\n",
    "Bottom 5 brands according to the relative ranking and relative rating are pankh, i-touch, losa, rfid and blusafe.\n"
   ]
  },
  {
   "cell_type": "markdown",
   "id": "50130c94",
   "metadata": {},
   "source": [
    "### Price distribution of SKUs "
   ]
  },
  {
   "cell_type": "code",
   "execution_count": 31,
   "id": "d5073f3a",
   "metadata": {},
   "outputs": [
    {
     "data": {
      "text/plain": [
       "Product Name      object\n",
       "Price             object\n",
       "Rating           float64\n",
       "Ranking            int64\n",
       "Ratings_count    float64\n",
       "Reviews_count    float64\n",
       "Brand             object\n",
       "SK_name           object\n",
       "dtype: object"
      ]
     },
     "execution_count": 31,
     "metadata": {},
     "output_type": "execute_result"
    }
   ],
   "source": [
    "data.dtypes"
   ]
  },
  {
   "cell_type": "code",
   "execution_count": 32,
   "id": "38c424fb",
   "metadata": {},
   "outputs": [
    {
     "name": "stderr",
     "output_type": "stream",
     "text": [
      "C:\\Users\\sanju\\AppData\\Local\\Temp\\ipykernel_26372\\2906225786.py:1: SettingWithCopyWarning: \n",
      "A value is trying to be set on a copy of a slice from a DataFrame.\n",
      "Try using .loc[row_indexer,col_indexer] = value instead\n",
      "\n",
      "See the caveats in the documentation: https://pandas.pydata.org/pandas-docs/stable/user_guide/indexing.html#returning-a-view-versus-a-copy\n",
      "  data['Price'] = data['Price'].str.replace('[^\\d.]', '', regex=True)\n",
      "C:\\Users\\sanju\\AppData\\Local\\Temp\\ipykernel_26372\\2906225786.py:2: SettingWithCopyWarning: \n",
      "A value is trying to be set on a copy of a slice from a DataFrame.\n",
      "Try using .loc[row_indexer,col_indexer] = value instead\n",
      "\n",
      "See the caveats in the documentation: https://pandas.pydata.org/pandas-docs/stable/user_guide/indexing.html#returning-a-view-versus-a-copy\n",
      "  data['Price'] = pd.to_numeric(data['Price'], errors='coerce')\n"
     ]
    }
   ],
   "source": [
    "data['Price'] = data['Price'].str.replace('[^\\d.]', '', regex=True)\n",
    "data['Price'] = pd.to_numeric(data['Price'], errors='coerce')\n"
   ]
  },
  {
   "cell_type": "code",
   "execution_count": 33,
   "id": "c5f14aec",
   "metadata": {},
   "outputs": [
    {
     "data": {
      "text/plain": [
       "dtype('int64')"
      ]
     },
     "execution_count": 33,
     "metadata": {},
     "output_type": "execute_result"
    }
   ],
   "source": [
    "data['Price'].dtype"
   ]
  },
  {
   "cell_type": "code",
   "execution_count": 34,
   "id": "abd01d93",
   "metadata": {},
   "outputs": [
    {
     "data": {
      "text/plain": [
       "0      16189\n",
       "1      10899\n",
       "2       9464\n",
       "3       8937\n",
       "4       1899\n",
       "       ...  \n",
       "355    25499\n",
       "356    12499\n",
       "357    15285\n",
       "358    48999\n",
       "359    11945\n",
       "Name: Price, Length: 350, dtype: int64"
      ]
     },
     "execution_count": 34,
     "metadata": {},
     "output_type": "execute_result"
    }
   ],
   "source": [
    "data['Price']"
   ]
  },
  {
   "cell_type": "code",
   "execution_count": 35,
   "id": "0dbb72e9",
   "metadata": {},
   "outputs": [
    {
     "name": "stderr",
     "output_type": "stream",
     "text": [
      "C:\\Users\\sanju\\AppData\\Local\\Temp\\ipykernel_26372\\1899282802.py:16: SettingWithCopyWarning: \n",
      "A value is trying to be set on a copy of a slice from a DataFrame.\n",
      "Try using .loc[row_indexer,col_indexer] = value instead\n",
      "\n",
      "See the caveats in the documentation: https://pandas.pydata.org/pandas-docs/stable/user_guide/indexing.html#returning-a-view-versus-a-copy\n",
      "  data['Price Band'] = data['Price'].apply(categorize_price)\n"
     ]
    }
   ],
   "source": [
    "def categorize_price(price):\n",
    "    if price <= 2999:\n",
    "        return \"<INR 2999\"\n",
    "    elif 3000 <= price <= 4999:\n",
    "        return \"INR 3000-4999\"\n",
    "    elif 5000 <= price <= 9999:\n",
    "        return \"INR 5000-9999\"\n",
    "    elif 10000 <= price <= 14999:\n",
    "        return \"INR 10000-14999\"\n",
    "    elif 15000 <= price <= 19999:\n",
    "        return \"INR 15000-19999\"\n",
    "    else:\n",
    "        return \">INR 20000\"\n",
    "\n",
    "# Apply the function to categorize the price\n",
    "data['Price Band'] = data['Price'].apply(categorize_price)"
   ]
  },
  {
   "cell_type": "code",
   "execution_count": 36,
   "id": "7c3c1dfe",
   "metadata": {},
   "outputs": [
    {
     "data": {
      "text/plain": [
       "Price Band\n",
       "INR 5000-9999      89\n",
       "INR 10000-14999    74\n",
       ">INR 20000         69\n",
       "<INR 2999          47\n",
       "INR 15000-19999    44\n",
       "INR 3000-4999      27\n",
       "Name: SK_name, dtype: int64"
      ]
     },
     "execution_count": 36,
     "metadata": {},
     "output_type": "execute_result"
    }
   ],
   "source": [
    "price_count = data.groupby('Price Band')['SK_name'].count().sort_values(ascending= False)\n",
    "price_count"
   ]
  },
  {
   "cell_type": "code",
   "execution_count": 37,
   "id": "d4635495",
   "metadata": {},
   "outputs": [
    {
     "data": {
      "text/plain": [
       "<Axes: ylabel='Price Band'>"
      ]
     },
     "execution_count": 37,
     "metadata": {},
     "output_type": "execute_result"
    },
    {
     "data": {
      "image/png": "[encoded data removed]",
      "text/plain": [
       "<Figure size 1000x500 with 1 Axes>"
      ]
     },
     "metadata": {},
     "output_type": "display_data"
    }
   ],
   "source": [
    "price_count.plot(kind= 'barh')"
   ]
  },
  {
   "cell_type": "markdown",
   "id": "007257de",
   "metadata": {},
   "source": [
    "Insights:\n",
    "Price of 89 products lies in range(Rs. 5000-9999), 74 products lies in range(Rs. 10000,14999) and 69 products have price greater than Rs. 20000."
   ]
  },
  {
   "cell_type": "code",
   "execution_count": null,
   "id": "d5ea639d",
   "metadata": {},
   "outputs": [],
   "source": []
  }
 ],
 "metadata": {
  "kernelspec": {
   "display_name": "Python 3 (ipykernel)",
   "language": "python",
   "name": "python3"
  },
  "language_info": {
   "codemirror_mode": {
    "name": "ipython",
    "version": 3
   },
   "file_extension": ".py",
   "mimetype": "text/x-python",
   "name": "python",
   "nbconvert_exporter": "python",
   "pygments_lexer": "ipython3",
   "version": "3.11.4"
  }
 },
 "nbformat": 4,
 "nbformat_minor": 5
}
